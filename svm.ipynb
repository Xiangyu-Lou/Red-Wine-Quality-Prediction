{
 "cells": [
  {
   "cell_type": "markdown",
   "metadata": {},
   "source": [
    "# SVM"
   ]
  },
  {
   "cell_type": "code",
   "execution_count": 1,
   "metadata": {},
   "outputs": [],
   "source": [
    "from sklearn.model_selection import KFold, GridSearchCV\n",
    "from sklearn.preprocessing import StandardScaler\n",
    "from data_preprocess import load_training_data,load_test_data, normalize_features\n",
    "from sklearn.metrics import accuracy_score, f1_score\n",
    "import pandas as pd\n",
    "import numpy as np\n",
    "import time\n",
    "from joblib import dump\n",
    "from sklearn import svm\n",
    "import joblib"
   ]
  },
  {
   "cell_type": "markdown",
   "metadata": {},
   "source": [
    "# Train"
   ]
  },
  {
   "cell_type": "code",
   "execution_count": 2,
   "metadata": {},
   "outputs": [
    {
     "ename": "FileNotFoundError",
     "evalue": "[Errno 2] No such file or directory: 'model_validation/model_linear_0.1_1.joblib'",
     "output_type": "error",
     "traceback": [
      "\u001b[1;31m---------------------------------------------------------------------------\u001b[0m",
      "\u001b[1;31mFileNotFoundError\u001b[0m                         Traceback (most recent call last)",
      "Cell \u001b[1;32mIn[2], line 45\u001b[0m\n\u001b[0;32m     43\u001b[0m model_directory \u001b[38;5;241m=\u001b[39m \u001b[38;5;124m\"\u001b[39m\u001b[38;5;124mmodel_validation\u001b[39m\u001b[38;5;124m\"\u001b[39m\n\u001b[0;32m     44\u001b[0m model_filename \u001b[38;5;241m=\u001b[39m \u001b[38;5;124mf\u001b[39m\u001b[38;5;124m\"\u001b[39m\u001b[38;5;132;01m{\u001b[39;00mmodel_directory\u001b[38;5;132;01m}\u001b[39;00m\u001b[38;5;124m/model_\u001b[39m\u001b[38;5;132;01m{\u001b[39;00mkernel\u001b[38;5;132;01m}\u001b[39;00m\u001b[38;5;124m_\u001b[39m\u001b[38;5;132;01m{\u001b[39;00mC\u001b[38;5;132;01m}\u001b[39;00m\u001b[38;5;124m_\u001b[39m\u001b[38;5;132;01m{\u001b[39;00mgamma\u001b[38;5;132;01m}\u001b[39;00m\u001b[38;5;124m.joblib\u001b[39m\u001b[38;5;124m\"\u001b[39m\n\u001b[1;32m---> 45\u001b[0m dump(clf, model_filename)\n\u001b[0;32m     47\u001b[0m end_time \u001b[38;5;241m=\u001b[39m time\u001b[38;5;241m.\u001b[39mtime()\n\u001b[0;32m     48\u001b[0m elapsed_time \u001b[38;5;241m=\u001b[39m end_time \u001b[38;5;241m-\u001b[39m start_time\n",
      "File \u001b[1;32ma:\\Anaconda\\Lib\\site-packages\\joblib\\numpy_pickle.py:552\u001b[0m, in \u001b[0;36mdump\u001b[1;34m(value, filename, compress, protocol, cache_size)\u001b[0m\n\u001b[0;32m    550\u001b[0m         NumpyPickler(f, protocol\u001b[38;5;241m=\u001b[39mprotocol)\u001b[38;5;241m.\u001b[39mdump(value)\n\u001b[0;32m    551\u001b[0m \u001b[38;5;28;01melif\u001b[39;00m is_filename:\n\u001b[1;32m--> 552\u001b[0m     \u001b[38;5;28;01mwith\u001b[39;00m \u001b[38;5;28mopen\u001b[39m(filename, \u001b[38;5;124m'\u001b[39m\u001b[38;5;124mwb\u001b[39m\u001b[38;5;124m'\u001b[39m) \u001b[38;5;28;01mas\u001b[39;00m f:\n\u001b[0;32m    553\u001b[0m         NumpyPickler(f, protocol\u001b[38;5;241m=\u001b[39mprotocol)\u001b[38;5;241m.\u001b[39mdump(value)\n\u001b[0;32m    554\u001b[0m \u001b[38;5;28;01melse\u001b[39;00m:\n",
      "\u001b[1;31mFileNotFoundError\u001b[0m: [Errno 2] No such file or directory: 'model_validation/model_linear_0.1_1.joblib'"
     ]
    }
   ],
   "source": [
    "# Load data\n",
    "X_train, y_train = load_training_data('data/train.csv')\n",
    "\n",
    "# Normalize the features\n",
    "X_train = normalize_features(X_train)\n",
    "\n",
    "# Define the parameter grid\n",
    "param_grid = {\n",
    "    'C': [0.1, 1, 10, 100, 200],\n",
    "    'gamma': [1, 0.1, 0.01, 0.001],\n",
    "    'kernel': ['linear', 'poly', 'rbf', 'sigmoid']\n",
    "}\n",
    "\n",
    "# Initialize a DataFrame to store the results\n",
    "results_df = pd.DataFrame(columns=['kernel', 'C', 'gamma', 'accuracy', 'f1_score'])\n",
    "\n",
    "# Define 5-fold cross validation test harness\n",
    "kfold = KFold(n_splits=5, shuffle=True)\n",
    "\n",
    "# Perform 5-fold cross validation\n",
    "for kernel in param_grid['kernel']:\n",
    "    for C in param_grid['C']:\n",
    "        for gamma in param_grid['gamma']:\n",
    "            start_time = time.time()\n",
    "\n",
    "            # Create a SVM classifier using the kernel trick\n",
    "            clf = svm.SVC(kernel=kernel, C=C, gamma=gamma)\n",
    "            \n",
    "            # Perform cross-validation manually to get the number of iterations\n",
    "            cv_results = []\n",
    "            f1_results = []\n",
    "            for train_index, test_index in kfold.split(X_train):\n",
    "                X_train_fold, X_test_fold = X_train.iloc[train_index], X_train.iloc[test_index]\n",
    "                y_train_fold, y_test_fold = y_train.iloc[train_index], y_train.iloc[test_index]\n",
    "                clf.fit(X_train_fold, y_train_fold)\n",
    "                score = clf.score(X_test_fold, y_test_fold)\n",
    "                cv_results.append(score)\n",
    "                y_pred = clf.predict(X_test_fold)\n",
    "                f1 = f1_score(y_test_fold, y_pred, average='weighted')\n",
    "                f1_results.append(f1)\n",
    "\n",
    "            # Save the model\n",
    "            model_directory = \"model_validation\"\n",
    "            model_filename = f\"{model_directory}/model_{kernel}_{C}_{gamma}.joblib\"\n",
    "            dump(clf, model_filename)\n",
    "\n",
    "            end_time = time.time()\n",
    "            elapsed_time = end_time - start_time\n",
    "            print(f\"Kernel: {kernel}, C: {C}, Gamma: {gamma}\\nCross-validation mean accuracy: {np.mean(cv_results)*100}%\\nElapsed time: {elapsed_time} seconds\\n\")\n",
    "\n",
    "            new_row = pd.DataFrame({\n",
    "                'kernel': [kernel],\n",
    "                'C': [C],\n",
    "                'gamma': [gamma],\n",
    "                'accuracy': [np.mean(cv_results)],\n",
    "                'f1_score': [np.mean(f1_results)]\n",
    "            })\n",
    "\n",
    "            results_df = pd.concat([results_df, new_row], ignore_index=True)"
   ]
  },
  {
   "cell_type": "markdown",
   "metadata": {},
   "source": [
    "## The Best Parameters"
   ]
  },
  {
   "cell_type": "code",
   "execution_count": null,
   "metadata": {},
   "outputs": [
    {
     "name": "stdout",
     "output_type": "stream",
     "text": [
      "Best parameters: Kernel=rbf, C=1.0, Gamma=1\n",
      "Best accuracy: 63.53779628443306%\n"
     ]
    }
   ],
   "source": [
    "# Sort the results by accuracy in descending order\n",
    "sorted_results = results_df.sort_values(by='accuracy', ascending=False)\n",
    "\n",
    "# Print the best parameters and corresponding accuracy\n",
    "best_params = sorted_results.iloc[0]\n",
    "print(f\"Best parameters: Kernel={best_params['kernel']}, C={best_params['C']}, Gamma={best_params['gamma']}\")\n",
    "print(f\"Best accuracy: {best_params['accuracy']*100}%\")"
   ]
  },
  {
   "cell_type": "markdown",
   "metadata": {},
   "source": [
    "## Train the Model"
   ]
  },
  {
   "cell_type": "code",
   "execution_count": null,
   "metadata": {},
   "outputs": [
    {
     "name": "stdout",
     "output_type": "stream",
     "text": [
      "Best parameters:\n",
      "Kernel: rbf, C: 1.0, Gamma: 1\n",
      "Accuracy: 0.6353779628443306, F1 Score: 0.6024524503005982\n"
     ]
    },
    {
     "data": {
      "text/plain": [
       "['model_validation/best_model_rbf_1.0_1.joblib']"
      ]
     },
     "execution_count": 7,
     "metadata": {},
     "output_type": "execute_result"
    }
   ],
   "source": [
    "# Find the parameters with the highest accuracy\n",
    "best_params = results_df.loc[results_df['accuracy'].idxmax()]\n",
    "\n",
    "# Print the best parameters\n",
    "print(f\"Best parameters:\\nKernel: {best_params['kernel']}, C: {best_params['C']}, Gamma: {best_params['gamma']}\\nAccuracy: {best_params['accuracy']}, F1 Score: {best_params['f1_score']}\")\n",
    "\n",
    "# Train the model with the best parameters on the full training set\n",
    "best_clf = svm.SVC(kernel=best_params['kernel'], C=best_params['C'], gamma=best_params['gamma'])\n",
    "best_clf.fit(X_train, y_train)\n",
    "\n",
    "# Save the best model\n",
    "best_model_filename = \"models/svm.joblib\"\n",
    "dump(best_clf, best_model_filename)"
   ]
  },
  {
   "cell_type": "markdown",
   "metadata": {},
   "source": [
    "## Predict"
   ]
  },
  {
   "cell_type": "code",
   "execution_count": null,
   "metadata": {},
   "outputs": [
    {
     "name": "stdout",
     "output_type": "stream",
     "text": [
      "Accuracy: 0.6416666666666667\n"
     ]
    }
   ],
   "source": [
    "# Load the model\n",
    "best_model_filename = f\"models/svm.joblib\"\n",
    "best_clf = joblib.load(best_model_filename)\n",
    "\n",
    "# Load the test data\n",
    "X_test, y_test = load_test_data('data/test.csv')\n",
    "\n",
    "# Normalize the test data\n",
    "X_test_normalized = normalize_features(X_test)\n",
    "\n",
    "# Predict the labels of the test set\n",
    "y_pred = best_clf.predict(X_test_normalized)\n",
    "\n",
    "# Calculate the accuracy of the model on the test set\n",
    "accuracy = accuracy_score(y_test, y_pred)\n",
    "\n",
    "# Print the accuracy\n",
    "print(f\"Accuracy: {accuracy}\")"
   ]
  }
 ],
 "metadata": {
  "kernelspec": {
   "display_name": "base",
   "language": "python",
   "name": "python3"
  },
  "language_info": {
   "codemirror_mode": {
    "name": "ipython",
    "version": 3
   },
   "file_extension": ".py",
   "mimetype": "text/x-python",
   "name": "python",
   "nbconvert_exporter": "python",
   "pygments_lexer": "ipython3",
   "version": "3.11.5"
  }
 },
 "nbformat": 4,
 "nbformat_minor": 2
}
