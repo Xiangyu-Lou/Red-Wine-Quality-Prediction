{
 "cells": [
  {
   "cell_type": "markdown",
   "metadata": {},
   "source": [
    "# MLP"
   ]
  },
  {
   "cell_type": "code",
   "execution_count": 14,
   "metadata": {},
   "outputs": [
    {
     "name": "stdout",
     "output_type": "stream",
     "text": [
      "Config: ((32, 64, 128), 0.001, 0.005, 500)\n",
      "Cross-validation mean accuracy: 58.44%\n",
      "Elapsed time: 0.60 seconds\n",
      "Number of iterations: 19\n",
      "\n",
      "Results: {((32, 64, 128), 0.001, 0.005, 500): 0.5844490711082639}\n"
     ]
    }
   ],
   "source": [
    "import sys\n",
    "sys.path.append(\"..\")\n",
    "from sklearn.model_selection import KFold, cross_val_score\n",
    "from sklearn.neural_network import MLPClassifier\n",
    "from sklearn.preprocessing import StandardScaler\n",
    "from data_prepocess import load_training_data\n",
    "import numpy as np\n",
    "import time\n",
    "import joblib\n",
    "\n",
    "# Get the data\n",
    "X_train, y_train = load_training_data('../data/train.csv')\n",
    "\n",
    "# Convert y_train to binary\n",
    "# y_train = np.where(y_train > 6, 1, 0)\n",
    "\n",
    "\n",
    "# Select only the specified features\n",
    "features = ['alcohol', 'sulphates', 'total sulfur dioxide', 'volatile acidity', 'density', 'chlorides']\n",
    "X_train = X_train[features]\n",
    "\n",
    "# Standardize features instead of just normalizing\n",
    "scaler = StandardScaler()\n",
    "X_train = scaler.fit_transform(X_train)\n",
    "\n",
    "\n",
    "\n",
    "# Standardize features instead of just normalizing\n",
    "scaler = StandardScaler()\n",
    "X_train = scaler.fit_transform(X_train)\n",
    "\n",
    "# Initialize variables\n",
    "hidden_layer_sizes = [(32, 64, 128)]\n",
    "alpha_values = [0.001]\n",
    "learning_rate_init_values = [0.005] \n",
    "max_iter_values = [500]\n",
    "results = {}\n",
    "\n",
    "# Define 5-fold cross validation test harness\n",
    "kfold = KFold(n_splits=5, shuffle=True)\n",
    "\n",
    "# Perform 5-fold cross validation\n",
    "for hidden_layer_size in hidden_layer_sizes:\n",
    "    for alpha in alpha_values:\n",
    "        for learning_rate_init in learning_rate_init_values:\n",
    "            for max_iter in max_iter_values:\n",
    "                start_time = time.time()\n",
    "\n",
    "                # Define the model with early stopping\n",
    "                model = MLPClassifier(hidden_layer_sizes=hidden_layer_size, activation='relu', solver='adam',\n",
    "                                      max_iter=max_iter, alpha=alpha, learning_rate_init=learning_rate_init,\n",
    "                                      early_stopping=True, n_iter_no_change=10)\n",
    "\n",
    "                # Perform cross-validation manually to get the number of iterations\n",
    "                cv_results = []\n",
    "                for train_index, test_index in kfold.split(X_train):\n",
    "                    X_train_fold, X_test_fold = X_train[train_index], X_train[test_index]\n",
    "                    y_train_fold, y_test_fold = y_train[train_index], y_train[test_index]\n",
    "                    model.fit(X_train_fold, y_train_fold)\n",
    "                    score = model.score(X_test_fold, y_test_fold)\n",
    "                    cv_results.append(score)\n",
    "\n",
    "                # Save the model\n",
    "                model_directory = \"model_validation\"\n",
    "                model_filename = f\"{model_directory}/model_{hidden_layer_size}_{alpha}_{learning_rate_init}_{max_iter}.joblib\"\n",
    "                joblib.dump(model, model_filename)\n",
    "\n",
    "                end_time = time.time()\n",
    "                elapsed_time = end_time - start_time\n",
    "                config = (hidden_layer_size, alpha, learning_rate_init, max_iter)\n",
    "                print(\"Config: {}\\nCross-validation mean accuracy: {:.2f}%\\nElapsed time: {:.2f} seconds\\nNumber of iterations: {}\\n\".format(\n",
    "                    config, np.mean(cv_results)*100, elapsed_time, model.n_iter_))\n",
    "\n",
    "                results[config] = np.mean(cv_results)\n",
    "\n",
    "print(\"Results:\", results)"
   ]
  },
  {
   "cell_type": "markdown",
   "metadata": {},
   "source": [
    "## Model's paramemters with the best accuracy"
   ]
  },
  {
   "cell_type": "code",
   "execution_count": 28,
   "metadata": {},
   "outputs": [
    {
     "name": "stdout",
     "output_type": "stream",
     "text": [
      "Best configuration:  ((32, 64, 128), 0.001, 0.005, 500)\n",
      "Best cross-validation mean accuracy: 58.62%\n"
     ]
    }
   ],
   "source": [
    "# Find the configuration with the highest accuracy\n",
    "best_config = max(results, key=results.get)\n",
    "best_accuracy = results[best_config]\n",
    "\n",
    "# Print the best configuration and its accuracy\n",
    "print(\"Best configuration: \", best_config)\n",
    "print(\"Best cross-validation mean accuracy: {:.2f}%\".format(best_accuracy*100))"
   ]
  },
  {
   "cell_type": "markdown",
   "metadata": {},
   "source": [
    "## Acuracy on the test set"
   ]
  },
  {
   "cell_type": "code",
   "execution_count": 29,
   "metadata": {},
   "outputs": [
    {
     "name": "stdout",
     "output_type": "stream",
     "text": [
      "Accuracy on test data: 60.62%\n"
     ]
    }
   ],
   "source": [
    "from data_prepocess import load_test_data\n",
    "from sklearn.metrics import accuracy_score\n",
    "# from sklearn.preprocessing import StandardScaler\n",
    "# import joblib\n",
    "\n",
    "# Load the test data\n",
    "X_test, y_test = load_test_data('../data/test.csv')\n",
    "\n",
    "# Preprocess the test data\n",
    "scaler = StandardScaler()\n",
    "X_test = scaler.fit_transform(X_test)\n",
    "\n",
    "# Load the trained model\n",
    "model_directory = \"model_validation\"\n",
    "model_filename = f\"{model_directory}/model_{hidden_layer_size}_{alpha}_{learning_rate_init}_{max_iter}.joblib\"\n",
    "model = joblib.load(model_filename)\n",
    "\n",
    "# Make predictions on the test data\n",
    "y_pred = model.predict(X_test)\n",
    "\n",
    "# Calculate and print the accuracy\n",
    "accuracy = accuracy_score(y_test, y_pred)\n",
    "print(\"Accuracy on test data: {:.2f}%\".format(accuracy * 100))"
   ]
  },
  {
   "cell_type": "markdown",
   "metadata": {},
   "source": [
    "# PCA"
   ]
  },
  {
   "cell_type": "code",
   "execution_count": 16,
   "metadata": {},
   "outputs": [],
   "source": [
    "# Standardize the features\n",
    "scaler = StandardScaler()\n",
    "X_train_scaled = scaler.fit_transform(X_train)\n",
    "\n",
    "# Apply PCA\n",
    "n_features = X_train_scaled.shape[1]\n",
    "pca = PCA(n_components=n_features//2)  # Set the number of components to half the number of features\n",
    "X_train_pca = pca.fit_transform(X_train_scaled)\n",
    "\n",
    "# Get the explained variance ratios\n",
    "explained_variance_ratios = pca.explained_variance_ratio_"
   ]
  },
  {
   "cell_type": "markdown",
   "metadata": {},
   "source": []
  },
  {
   "cell_type": "markdown",
   "metadata": {},
   "source": [
    "# Feature Importance Analysis with Random Forest"
   ]
  },
  {
   "cell_type": "code",
   "execution_count": 13,
   "metadata": {},
   "outputs": [
    {
     "name": "stdout",
     "output_type": "stream",
     "text": [
      "Features in order of importance:\n",
      "alcohol\n",
      "sulphates\n",
      "total sulfur dioxide\n",
      "volatile acidity\n",
      "density\n",
      "chlorides\n",
      "residual sugar\n",
      "fixed acidity\n",
      "pH\n",
      "citric acid\n",
      "free sulfur dioxide\n"
     ]
    }
   ],
   "source": [
    "from sklearn.ensemble import RandomForestClassifier\n",
    "\n",
    "# Load the training data\n",
    "X_train, y_train = load_training_data('../data/train.csv', target='quality')\n",
    "\n",
    "# Train a random forest classifier\n",
    "clf = RandomForestClassifier(n_estimators=100, random_state=0)\n",
    "clf.fit(X_train, y_train)\n",
    "\n",
    "# Get the feature importances\n",
    "importances = clf.feature_importances_\n",
    "\n",
    "# Sort the feature importances in descending order and get the indices\n",
    "indices = np.argsort(importances)[::-1]\n",
    "\n",
    "# Print the features in order of importance\n",
    "print('Features in order of importance:')\n",
    "for i in indices:\n",
    "    print(X_train.columns[i])"
   ]
  }
 ],
 "metadata": {
  "kernelspec": {
   "display_name": "base",
   "language": "python",
   "name": "python3"
  },
  "language_info": {
   "codemirror_mode": {
    "name": "ipython",
    "version": 3
   },
   "file_extension": ".py",
   "mimetype": "text/x-python",
   "name": "python",
   "nbconvert_exporter": "python",
   "pygments_lexer": "ipython3",
   "version": "3.11.7"
  }
 },
 "nbformat": 4,
 "nbformat_minor": 2
}
