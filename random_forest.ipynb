{
 "cells": [
  {
   "cell_type": "markdown",
   "id": "5ecd2788-2d7c-450a-ba1f-fff7a2ada8b9",
   "metadata": {},
   "source": [
    "# Ranom Forest"
   ]
  },
  {
   "cell_type": "code",
   "execution_count": 291,
   "id": "b4c4c6fb-4d41-48b1-870f-f49bb1cd38af",
   "metadata": {},
   "outputs": [],
   "source": [
    "from sklearn.metrics import accuracy_score\n",
    "from sklearn.metrics import f1_score\n",
    "from sklearn.ensemble import RandomForestClassifier\n",
    "import data_preprocess as dp\n",
    "from sklearn.decomposition import PCA\n",
    "from sklearn.model_selection import GridSearchCV\n",
    "from joblib import dump"
   ]
  },
  {
   "cell_type": "markdown",
   "id": "94d16eeb-496c-422b-ae4e-fa9371931fdd",
   "metadata": {},
   "source": [
    "## Preprocess training data"
   ]
  },
  {
   "cell_type": "code",
   "execution_count": 292,
   "id": "a31f94ef",
   "metadata": {},
   "outputs": [
    {
     "data": {
      "text/plain": [
       "array([[ 4.48091200e+01,  2.39357625e+00,  1.81904250e+00, ...,\n",
       "        -3.56951687e-02, -3.43122903e-02, -7.93313095e-02],\n",
       "       [-9.57552934e+00, -6.82532997e+00,  3.74211277e+00, ...,\n",
       "        -5.28223275e-02, -1.40999621e-01,  9.16049756e-03],\n",
       "       [-2.95063958e+01, -4.38364477e+00, -1.72558142e-01, ...,\n",
       "         6.64725324e-02, -1.38461124e-01,  1.27169872e-01],\n",
       "       ...,\n",
       "       [ 1.95381795e+01,  4.08599756e+00, -1.16878183e+00, ...,\n",
       "        -4.26433129e-02, -1.17503983e-01, -1.38066501e-02],\n",
       "       [ 8.88923869e+01, -1.57313963e+01,  6.96616887e-03, ...,\n",
       "         6.27896605e-01,  1.07027659e+00, -6.08949387e-02],\n",
       "       [-1.26992464e+01,  2.08694387e+00,  1.69257957e+00, ...,\n",
       "        -9.58516496e-02, -6.90567671e-02, -1.03406103e-01]])"
      ]
     },
     "execution_count": 292,
     "metadata": {},
     "output_type": "execute_result"
    }
   ],
   "source": [
    "# Load training and test data\n",
    "features_train, labels_train = dp.load_training_data() \n",
    "features_test, labels_test = dp.load_test_data()  \n",
    "\n",
    "# Initialize the Random Forest Classifier\n",
    "random_forest_model = RandomForestClassifier()\n",
    "\n",
    "# Initialize PCA with 8 components\n",
    "pca = PCA(n_components=8)\n",
    "\n",
    "# Fit PCA on training data\n",
    "pca.fit(features_train)\n",
    "\n",
    "# Transform training and test data to its first 8 principal components\n",
    "features_train_pca = pca.transform(features_train)\n",
    "features_test_pca = pca.transform(features_test)\n",
    "\n",
    "# Print the transformed training data\n",
    "features_train_pca"
   ]
  },
  {
   "cell_type": "markdown",
   "id": "c3b8bd7d-5c4b-4171-a078-2af4aa4a249f",
   "metadata": {},
   "source": [
    "## 5-fold cross validation"
   ]
  },
  {
   "cell_type": "code",
   "execution_count": 293,
   "id": "1473d50f-36fd-43b3-96ee-ab982861fa3b",
   "metadata": {},
   "outputs": [
    {
     "name": "stdout",
     "output_type": "stream",
     "text": [
      "Fitting 5 folds for each of 162 candidates, totalling 810 fits\n"
     ]
    },
    {
     "data": {
      "text/plain": [
       "{'bootstrap': True,\n",
       " 'max_depth': 100,\n",
       " 'max_features': 'log2',\n",
       " 'min_samples_leaf': 2,\n",
       " 'min_samples_split': 2,\n",
       " 'n_estimators': 50}"
      ]
     },
     "execution_count": 293,
     "metadata": {},
     "output_type": "execute_result"
    }
   ],
   "source": [
    "# Define hyperparameters for the model\n",
    "hyperparameters = {\n",
    "    'n_estimators': [50, 100, 200],\n",
    "    'max_depth': [10, 50, 100],\n",
    "    'min_samples_split': [2, 5, 10],\n",
    "    'min_samples_leaf': [1, 2, 4],\n",
    "    'max_features': ['sqrt', 'log2'],\n",
    "    'bootstrap': [True]\n",
    "}\n",
    "\n",
    "# Initialize GridSearchCV with 5-fold cross validation\n",
    "grid_search = GridSearchCV(estimator=RandomForestClassifier(), param_grid=hyperparameters, cv=5, scoring='accuracy', n_jobs=-1, verbose=3)\n",
    "\n",
    "# Fit GridSearchCV on training data\n",
    "grid_search.fit(features_train, labels_train)\n",
    "\n",
    "# Print the best parameters\n",
    "grid_search.best_params_"
   ]
  },
  {
   "cell_type": "markdown",
   "id": "5747344c-265b-45d8-a17d-04099093a3eb",
   "metadata": {},
   "source": [
    "## Train the final model and make predictions"
   ]
  },
  {
   "cell_type": "code",
   "execution_count": 299,
   "id": "11bf6a82-2619-409b-83da-18ce14eab8af",
   "metadata": {},
   "outputs": [
    {
     "name": "stdout",
     "output_type": "stream",
     "text": [
      "Accuracy: 0.7125\n",
      "F1 Score: 0.7009427024058242\n"
     ]
    }
   ],
   "source": [
    "# Fit the model on the training data\n",
    "grid_search.best_estimator_.fit(features_train_pca, labels_train)\n",
    "\n",
    "# Predict the labels of the test set\n",
    "predictions = grid_search.best_estimator_.predict(features_test_pca)\n",
    "\n",
    "# calculate the accuracy and f1 score of the model\n",
    "f1 = f1_score(labels_test, predictions, average='weighted')\n",
    "accuracy = accuracy_score(predictions, labels_test)\n",
    "\n",
    "# Save the model\n",
    "dump(grid_search.best_estimator_, 'models/random_forest.joblib')\n",
    "\n",
    "# Print\n",
    "print(f\"Accuracy: {accuracy}\")\n",
    "print(f\"F1 Score: {f1}\")"
   ]
  }
 ],
 "metadata": {
  "kernelspec": {
   "display_name": "Python 3 (ipykernel)",
   "language": "python",
   "name": "python3"
  },
  "language_info": {
   "codemirror_mode": {
    "name": "ipython",
    "version": 3
   },
   "file_extension": ".py",
   "mimetype": "text/x-python",
   "name": "python",
   "nbconvert_exporter": "python",
   "pygments_lexer": "ipython3",
   "version": "3.11.7"
  }
 },
 "nbformat": 4,
 "nbformat_minor": 5
}
