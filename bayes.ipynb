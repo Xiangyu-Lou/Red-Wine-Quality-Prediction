{
 "cells": [
  {
   "cell_type": "markdown",
   "id": "9d636fe0-8ec1-4e15-a7b5-ae9629bb2e9c",
   "metadata": {},
   "source": [
    "# Bayes Model"
   ]
  },
  {
   "cell_type": "code",
   "execution_count": 5,
   "id": "9bad1b05-02e9-469c-8705-eeaa000497d6",
   "metadata": {},
   "outputs": [],
   "source": [
    "from sklearn.metrics import accuracy_score\n",
    "from sklearn.metrics import f1_score\n",
    "from sklearn.naive_bayes import GaussianNB\n",
    "import data_preprocess as dp\n",
    "from sklearn.decomposition import PCA\n",
    "from sklearn.model_selection import GridSearchCV\n",
    "from joblib import dump"
   ]
  },
  {
   "cell_type": "markdown",
   "id": "ad36c2d6-7622-4988-aad2-64484ba0ab29",
   "metadata": {},
   "source": [
    "## Preprocess training data"
   ]
  },
  {
   "cell_type": "code",
   "execution_count": 6,
   "id": "fdb2aa01-30c7-45ce-8153-641d31093ae8",
   "metadata": {},
   "outputs": [
    {
     "data": {
      "text/plain": [
       "array([[ 4.48091200e+01,  2.39357625e+00,  1.81904250e+00, ...,\n",
       "        -3.56951687e-02, -3.43122903e-02, -7.93313095e-02],\n",
       "       [-9.57552934e+00, -6.82532997e+00,  3.74211277e+00, ...,\n",
       "        -5.28223275e-02, -1.40999621e-01,  9.16049756e-03],\n",
       "       [-2.95063958e+01, -4.38364477e+00, -1.72558142e-01, ...,\n",
       "         6.64725324e-02, -1.38461124e-01,  1.27169872e-01],\n",
       "       ...,\n",
       "       [ 1.95381795e+01,  4.08599756e+00, -1.16878183e+00, ...,\n",
       "        -4.26433129e-02, -1.17503983e-01, -1.38066501e-02],\n",
       "       [ 8.88923869e+01, -1.57313963e+01,  6.96616887e-03, ...,\n",
       "         6.27896605e-01,  1.07027659e+00, -6.08949387e-02],\n",
       "       [-1.26992464e+01,  2.08694387e+00,  1.69257957e+00, ...,\n",
       "        -9.58516496e-02, -6.90567671e-02, -1.03406103e-01]])"
      ]
     },
     "execution_count": 6,
     "metadata": {},
     "output_type": "execute_result"
    }
   ],
   "source": [
    "# Load training and test data\n",
    "features_train, labels_train = dp.load_training_data() \n",
    "features_test, labels_test = dp.load_test_data()  \n",
    "\n",
    "# Initialize the bayes Classifier\n",
    "bayes_model = GaussianNB()\n",
    "\n",
    "# Initialize PCA with 8 components\n",
    "pca = PCA(n_components=8)\n",
    "\n",
    "# Fit PCA on training data\n",
    "pca.fit(features_train)\n",
    "\n",
    "# Transform training and test data to its first 8 principal components\n",
    "features_train_pca = pca.transform(features_train)\n",
    "features_test_pca = pca.transform(features_test)\n",
    "\n",
    "# Print the transformed training data\n",
    "features_train_pca"
   ]
  },
  {
   "cell_type": "markdown",
   "id": "872a4bfc-410e-46c0-92b6-925a8eb9ac67",
   "metadata": {},
   "source": [
    "## 5-fold cross validation"
   ]
  },
  {
   "cell_type": "code",
   "execution_count": 7,
   "id": "f62db96b-b5c1-4527-835b-c04edf0c535b",
   "metadata": {},
   "outputs": [
    {
     "name": "stdout",
     "output_type": "stream",
     "text": [
      "Fitting 5 folds for each of 5 candidates, totalling 25 fits\n"
     ]
    },
    {
     "data": {
      "text/plain": [
       "{'var_smoothing': 1e-05}"
      ]
     },
     "execution_count": 7,
     "metadata": {},
     "output_type": "execute_result"
    }
   ],
   "source": [
    "# Define hyperparameters for the model\n",
    "hyperparameters = {\n",
    "    # Laplace smoothing parameter\n",
    "    'var_smoothing': [1e-9, 1e-8, 1e-7, 1e-6, 1e-5]\n",
    "}\n",
    "\n",
    "# Initialize GridSearchCV with 5-fold cross validation\n",
    "grid_search = GridSearchCV(estimator=GaussianNB(), param_grid=hyperparameters, cv=5, scoring='accuracy', n_jobs=-1, verbose=3)\n",
    "\n",
    "# Fit GridSearchCV on training data\n",
    "grid_search.fit(features_train, labels_train)\n",
    "\n",
    "# Print the best parameters\n",
    "grid_search.best_params_"
   ]
  },
  {
   "cell_type": "markdown",
   "id": "2ebf7e06-0699-4674-aa83-6f1f8610b874",
   "metadata": {},
   "source": [
    "## Train the final model and make predictions"
   ]
  },
  {
   "cell_type": "code",
   "execution_count": 8,
   "id": "a2291411-cc23-4098-a27c-3e3920d1c759",
   "metadata": {},
   "outputs": [
    {
     "name": "stdout",
     "output_type": "stream",
     "text": [
      "Model: Best Model\n",
      "Accuracy: [0.60625]\n"
     ]
    }
   ],
   "source": [
    "accuracy_list = []\n",
    "model_accuracy_dict = {}\n",
    "classifier = grid_search.best_estimator_\n",
    "\n",
    "# Fit the model on the training data\n",
    "classifier.fit(features_train_pca, labels_train)\n",
    "\n",
    "# Predict the labels of the test set\n",
    "predictions = classifier.predict(features_test_pca)\n",
    "\n",
    "# calculate the accuracy and f1 score of the model\n",
    "f1 = f1_score(labels_test, predictions, average='weighted')\n",
    "accuracy_list.append(accuracy_score(predictions, labels_test))\n",
    "model_accuracy_dict = {'Model': 'Best Model', 'Accuracy': accuracy_list}\n",
    "\n",
    "# Save the model\n",
    "dump(classifier, 'models/bayes_model.joblib')\n",
    "\n",
    "# Print the model and its accuracy in a readable format\n",
    "for key, value in model_accuracy_dict.items():\n",
    "    print(f\"{key}: {value}\")"
   ]
  }
 ],
 "metadata": {
  "kernelspec": {
   "display_name": "Python 3 (ipykernel)",
   "language": "python",
   "name": "python3"
  },
  "language_info": {
   "codemirror_mode": {
    "name": "ipython",
    "version": 3
   },
   "file_extension": ".py",
   "mimetype": "text/x-python",
   "name": "python",
   "nbconvert_exporter": "python",
   "pygments_lexer": "ipython3",
   "version": "3.9.6"
  }
 },
 "nbformat": 4,
 "nbformat_minor": 5
}
