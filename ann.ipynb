{
 "cells": [
  {
   "cell_type": "markdown",
   "metadata": {},
   "source": [
    "# MLP"
   ]
  },
  {
   "cell_type": "code",
   "execution_count": 22,
   "metadata": {},
   "outputs": [],
   "source": [
    "from sklearn.model_selection import KFold, cross_val_score\n",
    "from sklearn.neural_network import MLPClassifier\n",
    "from sklearn.preprocessing import StandardScaler\n",
    "from data_preprocess import load_training_data, load_test_data, normalize_features\n",
    "from sklearn.metrics import accuracy_score, f1_score\n",
    "import pandas as pd\n",
    "import numpy as np\n",
    "import time\n",
    "import joblib"
   ]
  },
  {
   "cell_type": "code",
   "execution_count": 23,
   "metadata": {},
   "outputs": [
    {
     "name": "stdout",
     "output_type": "stream",
     "text": [
      "Config: ((128, 64, 32), 0.1, 0.01, 500)\n",
      "Cross-validation mean accuracy: 57.54%\n",
      "Elapsed time: 2.41 seconds\n",
      "Number of iterations: 24\n",
      "\n",
      "Config: ((64, 32, 16), 0.1, 0.01, 500)\n",
      "Cross-validation mean accuracy: 58.26%\n",
      "Elapsed time: 1.42 seconds\n",
      "Number of iterations: 16\n",
      "\n",
      "Config: ((32, 16, 8), 0.1, 0.01, 500)\n",
      "Cross-validation mean accuracy: 57.10%\n",
      "Elapsed time: 1.55 seconds\n",
      "Number of iterations: 22\n",
      "\n",
      "Config: ((8, 16, 32), 0.1, 0.01, 500)\n",
      "Cross-validation mean accuracy: 58.27%\n",
      "Elapsed time: 1.11 seconds\n",
      "Number of iterations: 22\n",
      "\n",
      "Config: ((16, 32, 64), 0.1, 0.01, 500)\n",
      "Cross-validation mean accuracy: 58.54%\n",
      "Elapsed time: 2.95 seconds\n",
      "Number of iterations: 26\n",
      "\n",
      "Config: ((32, 64, 128), 0.1, 0.01, 500)\n",
      "Cross-validation mean accuracy: 59.97%\n",
      "Elapsed time: 4.37 seconds\n",
      "Number of iterations: 18\n",
      "\n",
      "Config: ((8, 16, 32, 64, 128), 0.1, 0.01, 500)\n",
      "Cross-validation mean accuracy: 56.92%\n",
      "Elapsed time: 4.22 seconds\n",
      "Number of iterations: 16\n",
      "\n",
      "Config: ((128, 64, 32, 16, 8), 0.1, 0.01, 500)\n",
      "Cross-validation mean accuracy: 59.34%\n",
      "Elapsed time: 3.57 seconds\n",
      "Number of iterations: 15\n",
      "\n"
     ]
    }
   ],
   "source": [
    "# Get the data\n",
    "X_train, y_train = load_training_data('data/train.csv')\n",
    "\n",
    "# Normalize the features\n",
    "X_train = normalize_features(X_train)\n",
    "\n",
    "# Initialize variables\n",
    "hidden_layer_sizes = [(128,64,32), (64,32,16), (32,16,8), (8, 16, 32), (16, 32, 64), (32, 64, 128), (8, 16, 32, 64, 128), (128, 64, 32, 16, 8)]\n",
    "alpha_values = [0.1]\n",
    "learning_rate_init_values = [0.01] \n",
    "max_iter_values = [500]\n",
    "results = {}\n",
    "\n",
    "# Initialize a DataFrame to store the results\n",
    "results_df = pd.DataFrame(columns=['hidden_layer_size', 'alpha', 'learning_rate_init', 'max_iter', 'accuracy', 'f1_score'])\n",
    "\n",
    "# Define 5-fold cross validation test harness\n",
    "kfold = KFold(n_splits=5, shuffle=True)\n",
    "\n",
    "# Perform 5-fold cross validation\n",
    "for hidden_layer_size in hidden_layer_sizes:\n",
    "    for alpha in alpha_values:\n",
    "        for learning_rate_init in learning_rate_init_values:\n",
    "            for max_iter in max_iter_values:\n",
    "                start_time = time.time()\n",
    "\n",
    "                # Define the model with early stopping\n",
    "                model = MLPClassifier(hidden_layer_sizes=hidden_layer_size, activation='relu', solver='adam',\n",
    "                                      max_iter=max_iter, alpha=alpha, learning_rate_init=learning_rate_init,\n",
    "                                      early_stopping=True, n_iter_no_change=10)\n",
    "\n",
    "                # Perform cross-validation manually to get the number of iterations\n",
    "                cv_results = []\n",
    "                f1_results = []\n",
    "                for train_index, test_index in kfold.split(X_train):\n",
    "                    X_train_fold, X_test_fold = X_train.iloc[train_index], X_train.iloc[test_index]\n",
    "                    y_train_fold, y_test_fold = y_train.iloc[train_index], y_train.iloc[test_index]\n",
    "                    model.fit(X_train_fold, y_train_fold)\n",
    "                    score = model.score(X_test_fold, y_test_fold)\n",
    "                    cv_results.append(score)\n",
    "                    y_pred = model.predict(X_test_fold)\n",
    "                    f1 = f1_score(y_test_fold, y_pred, average='weighted')\n",
    "                    f1_results.append(f1)\n",
    "\n",
    "                end_time = time.time()\n",
    "                elapsed_time = end_time - start_time\n",
    "                config = (hidden_layer_size, alpha, learning_rate_init, max_iter)\n",
    "                print(\"Config: {}\\nCross-validation mean accuracy: {:.2f}%\\nElapsed time: {:.2f} seconds\\nNumber of iterations: {}\\n\".format(\n",
    "                    config, np.mean(cv_results)*100, elapsed_time, model.n_iter_))\n",
    "\n",
    "                new_row = pd.DataFrame({\n",
    "                    'hidden_layer_size': [hidden_layer_size],\n",
    "                    'alpha': [alpha],\n",
    "                    'learning_rate_init': [learning_rate_init],\n",
    "                    'max_iter': [max_iter],\n",
    "                    'accuracy': [np.mean(cv_results)],\n",
    "                    'f1_score': [np.mean(f1_results)]\n",
    "                })\n",
    "\n",
    "                results_df = pd.concat([results_df, new_row], ignore_index=True)"
   ]
  },
  {
   "cell_type": "markdown",
   "metadata": {},
   "source": [
    "## Model's paramemters with the best accuracy"
   ]
  },
  {
   "cell_type": "code",
   "execution_count": 50,
   "metadata": {},
   "outputs": [
    {
     "name": "stdout",
     "output_type": "stream",
     "text": [
      "Best parameters: hidden_layer_size     (32, 64, 128)\n",
      "alpha                           0.1\n",
      "learning_rate_init             0.01\n",
      "max_iter                        500\n",
      "accuracy                    0.59966\n",
      "f1_score                   0.567564\n",
      "Name: 5, dtype: object\n"
     ]
    },
    {
     "data": {
      "text/plain": [
       "['models/ann.joblib']"
      ]
     },
     "execution_count": 50,
     "metadata": {},
     "output_type": "execute_result"
    }
   ],
   "source": [
    "# Find the best parameters\n",
    "best_params = results_df.loc[results_df['accuracy'].idxmax()]\n",
    "print(f\"Best parameters: {best_params}\")\n",
    "\n",
    "# Train the final model with the best parameters\n",
    "final_model = MLPClassifier(hidden_layer_sizes=best_params['hidden_layer_size'], \n",
    "                            activation='relu', \n",
    "                            solver='adam', \n",
    "                            max_iter=best_params['max_iter'], \n",
    "                            alpha=best_params['alpha'], \n",
    "                            learning_rate_init=best_params['learning_rate_init'], \n",
    "                            early_stopping=True, \n",
    "                            n_iter_no_change=10)\n",
    "\n",
    "final_model.fit(X_train, y_train)\n",
    "\n",
    "# Save the final model\n",
    "joblib.dump(final_model, 'models/ann.joblib')"
   ]
  },
  {
   "cell_type": "markdown",
   "metadata": {},
   "source": [
    "## Acuracy on the test set"
   ]
  },
  {
   "cell_type": "code",
   "execution_count": 53,
   "metadata": {},
   "outputs": [
    {
     "name": "stdout",
     "output_type": "stream",
     "text": [
      "F1 Score: 0.6023795385302051\n",
      "Accuracy: 0.6145833333333334\n"
     ]
    }
   ],
   "source": [
    "from sklearn.metrics import f1_score\n",
    "\n",
    "# Load the final model\n",
    "final_model = joblib.load('models/ann.joblib')\n",
    "\n",
    "# Load the test data\n",
    "X_test, y_test = load_test_data('data/test.csv', 'quality')\n",
    "\n",
    "# Normalize the test data\n",
    "X_test_normalized = normalize_features(X_test)\n",
    "\n",
    "# Predict the labels of the test set\n",
    "y_pred = final_model.predict(X_test_normalized)\n",
    "\n",
    "# Calculate the accuracy of the model on the test set\n",
    "accuracy = accuracy_score(y_test, y_pred)\n",
    "\n",
    "# Calculate the F1 score\n",
    "f1 = f1_score(y_test, y_pred, average='weighted')\n",
    "\n",
    "# Print the accuracy and F1 score\n",
    "print(f\"F1 Score: {f1}\")\n",
    "print(f\"Accuracy: {accuracy}\")"
   ]
  }
 ],
 "metadata": {
  "kernelspec": {
   "display_name": "base",
   "language": "python",
   "name": "python3"
  },
  "language_info": {
   "codemirror_mode": {
    "name": "ipython",
    "version": 3
   },
   "file_extension": ".py",
   "mimetype": "text/x-python",
   "name": "python",
   "nbconvert_exporter": "python",
   "pygments_lexer": "ipython3",
   "version": "3.11.5"
  }
 },
 "nbformat": 4,
 "nbformat_minor": 2
}
