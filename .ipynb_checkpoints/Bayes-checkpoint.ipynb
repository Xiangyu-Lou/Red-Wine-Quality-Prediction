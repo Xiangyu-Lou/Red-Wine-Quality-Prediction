{
 "cells": [
  {
   "cell_type": "markdown",
   "id": "9d636fe0-8ec1-4e15-a7b5-ae9629bb2e9c",
   "metadata": {},
   "source": [
    "# Bayes Model"
   ]
  },
  {
   "cell_type": "code",
   "execution_count": null,
   "id": "9bad1b05-02e9-469c-8705-eeaa000497d6",
   "metadata": {},
   "outputs": [],
   "source": [
    "import pandas as pd\n",
    "from sklearn.preprocessing import LabelEncoder\n",
    "from sklearn.model_selection import train_test_split\n",
    "from sklearn.metrics import accuracy_score\n",
    "from sklearn.naive_bayes import GaussianNB, MultinomialNB, BernoulliNB\n",
    "import data_preprocess as dp\n",
    "from sklearn.model_selection import cross_val_score\n",
    "from sklearn.model_selection import KFold\n",
    "from sklearn.decomposition import PCA\n",
    "from sklearn.model_selection import GridSearchCV\n",
    "from sklearn.preprocessing import StandardScaler\n",
    "import joblib"
   ]
  },
  {
   "cell_type": "markdown",
   "id": "ad36c2d6-7622-4988-aad2-64484ba0ab29",
   "metadata": {},
   "source": [
    "# Load Data"
   ]
  },
  {
   "cell_type": "code",
   "execution_count": null,
   "id": "fdb2aa01-30c7-45ce-8153-641d31093ae8",
   "metadata": {},
   "outputs": [],
   "source": [
    "# Load the training and test data\n",
    "x_train, y_train = dp.load_training_data()\n",
    "x_test, y_test = dp.load_test_data()\n",
    "bayes_model = GaussianNB()"
   ]
  },
  {
   "cell_type": "markdown",
   "id": "872a4bfc-410e-46c0-92b6-925a8eb9ac67",
   "metadata": {},
   "source": [
    "# Feature Extraction"
   ]
  },
  {
   "cell_type": "code",
   "execution_count": null,
   "id": "f62db96b-b5c1-4527-835b-c04edf0c535b",
   "metadata": {},
   "outputs": [],
   "source": [
    "# Feature extraction\n",
    "pca_model = PCA(n_components=8).fit(x_train) \n",
    "trainpca = pca_model.transform(x_train)  \n",
    "testpca = pca_model.transform(x_test)"
   ]
  },
  {
   "cell_type": "markdown",
   "id": "2ebf7e06-0699-4674-aa83-6f1f8610b874",
   "metadata": {},
   "source": [
    "# Parameters Grid"
   ]
  },
  {
   "cell_type": "code",
   "execution_count": null,
   "id": "a2291411-cc23-4098-a27c-3e3920d1c759",
   "metadata": {},
   "outputs": [],
   "source": [
    "# Define the parameter grid\n",
    "param_grid = {\n",
    "    'var_smoothing': [0, 1e-9, 1e-8, 1e-7, 1e-10]  # 调整 Laplace 平滑参数\n",
    "}"
   ]
  },
  {
   "cell_type": "markdown",
   "id": "9b95e397-2e2e-4cee-82e2-c837b5498029",
   "metadata": {},
   "source": [
    "# Grid Search"
   ]
  },
  {
   "cell_type": "code",
   "execution_count": null,
   "id": "9f0d85de-9076-4672-a366-354678f0f2d6",
   "metadata": {},
   "outputs": [],
   "source": [
    "kfold = KFold(n_splits=5, random_state=42, shuffle=True)\n",
    "grid_search = GridSearchCV(bayes_model, param_grid, cv=kfold, verbose=3, n_jobs=-1, scoring='accuracy')\n",
    "grid_search.fit(x_train, y_train)"
   ]
  },
  {
   "cell_type": "markdown",
   "id": "9500ff0a-0e29-4233-b8d6-53a59e7f1469",
   "metadata": {},
   "source": [
    "# Best Model"
   ]
  },
  {
   "cell_type": "code",
   "execution_count": null,
   "id": "767818a4-12e6-4a00-805e-ec3897e11289",
   "metadata": {},
   "outputs": [],
   "source": [
    "# Get the best model\n",
    "best_model = grid_search.best_estimator_\n",
    "print(\"Best parameters:\", grid_search.best_params_)"
   ]
  },
  {
   "cell_type": "markdown",
   "id": "676179a7-dbff-4c3c-9648-41a661c39b1b",
   "metadata": {},
   "source": [
    "# Best Model Prediction Accuracy"
   ]
  },
  {
   "cell_type": "code",
   "execution_count": null,
   "id": "f8725e48-b2a2-4cc4-9e51-1a6bb4e9383a",
   "metadata": {},
   "outputs": [],
   "source": [
    "acc = []\n",
    "d = {}\n",
    "clf = best_model\n",
    "\n",
    "clf.fit(x_train, y_train)\n",
    "pred = clf.predict(x_test)\n",
    "acc.append(accuracy_score(pred, y_test))\n",
    "d = {'Modelling Algo': 'Best model', 'Accuracy': acc}\n",
    "print(d)"
   ]
  }
 ],
 "metadata": {
  "kernelspec": {
   "display_name": "Python 3 (ipykernel)",
   "language": "python",
   "name": "python3"
  },
  "language_info": {
   "codemirror_mode": {
    "name": "ipython",
    "version": 3
   },
   "file_extension": ".py",
   "mimetype": "text/x-python",
   "name": "python",
   "nbconvert_exporter": "python",
   "pygments_lexer": "ipython3",
   "version": "3.9.6"
  }
 },
 "nbformat": 4,
 "nbformat_minor": 5
}
