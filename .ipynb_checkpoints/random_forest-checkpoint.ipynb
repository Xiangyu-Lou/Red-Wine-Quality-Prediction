{
 "cells": [
  {
   "cell_type": "markdown",
   "id": "5ecd2788-2d7c-450a-ba1f-fff7a2ada8b9",
   "metadata": {},
   "source": [
    "# Ranom Forest"
   ]
  },
  {
   "cell_type": "code",
   "execution_count": 1,
   "id": "b4c4c6fb-4d41-48b1-870f-f49bb1cd38af",
   "metadata": {},
   "outputs": [
    {
     "name": "stderr",
     "output_type": "stream",
     "text": [
      "C:\\Users\\18755\\AppData\\Local\\Temp\\ipykernel_9012\\2114189902.py:1: DeprecationWarning: \n",
      "Pyarrow will become a required dependency of pandas in the next major release of pandas (pandas 3.0),\n",
      "(to allow more performant data types, such as the Arrow string type, and better interoperability with other libraries)\n",
      "but was not found to be installed on your system.\n",
      "If this would cause problems for you,\n",
      "please provide us feedback at https://github.com/pandas-dev/pandas/issues/54466\n",
      "        \n",
      "  import pandas as pd\n"
     ]
    }
   ],
   "source": [
    "import pandas as pd\n",
    "from sklearn.preprocessing import LabelEncoder\n",
    "from sklearn.model_selection import train_test_split\n",
    "from sklearn.metrics import accuracy_score\n",
    "from sklearn.metrics import f1_score\n",
    "from sklearn.ensemble import RandomForestClassifier, GradientBoostingClassifier\n",
    "import data_preprocess as dp\n",
    "from sklearn.model_selection import cross_val_score\n",
    "from sklearn.model_selection import KFold\n",
    "from sklearn.decomposition import PCA\n",
    "from sklearn.model_selection import GridSearchCV\n",
    "import joblib"
   ]
  },
  {
   "cell_type": "markdown",
   "id": "94d16eeb-496c-422b-ae4e-fa9371931fdd",
   "metadata": {},
   "source": [
    "# Get Data"
   ]
  },
  {
   "cell_type": "code",
   "execution_count": 2,
   "id": "a31f94ef",
   "metadata": {},
   "outputs": [],
   "source": [
    "# read data from csv file\n",
    "x_train, y_train = dp.load_training_data() \n",
    "x_test, y_test = dp.load_test_data()  \n",
    "\n",
    "model = RandomForestClassifier()"
   ]
  },
  {
   "cell_type": "markdown",
   "id": "62b9857e",
   "metadata": {},
   "source": [
    "# Feature Extraction"
   ]
  },
  {
   "cell_type": "code",
   "execution_count": 3,
   "id": "774120a2-44a4-4701-809d-6727026af031",
   "metadata": {},
   "outputs": [],
   "source": [
    "# feature encoding\n",
    "pca_model = PCA(n_components=8).fit(x_train)  \n",
    "trainpca = pca_model.transform(x_train)        \n",
    "testpca = pca_model.transform(x_test)"
   ]
  },
  {
   "cell_type": "markdown",
   "id": "c3b8bd7d-5c4b-4171-a078-2af4aa4a249f",
   "metadata": {},
   "source": [
    "# Parameters Grid"
   ]
  },
  {
   "cell_type": "code",
   "execution_count": 4,
   "id": "1473d50f-36fd-43b3-96ee-ab982861fa3b",
   "metadata": {},
   "outputs": [],
   "source": [
    "# grid search for random forest\n",
    "param_grid = {\n",
    "    'n_estimators': [50, 100, 200],       \n",
    "    'max_depth': [10, 50, 100],          \n",
    "    'min_samples_split': [2, 5, 10],     \n",
    "    'min_samples_leaf': [1, 2, 4],        \n",
    "    'max_features': ['sqrt', 'log2'],     \n",
    "    'bootstrap': [True, False]            \n",
    "}"
   ]
  },
  {
   "cell_type": "markdown",
   "id": "903f92ca-cdbe-4e30-8eec-80e307e20524",
   "metadata": {},
   "source": [
    "# Grid Search"
   ]
  },
  {
   "cell_type": "code",
   "execution_count": 5,
   "id": "664f55aa-bdc7-4c2a-b530-0d7d81ed2b87",
   "metadata": {},
   "outputs": [
    {
     "name": "stdout",
     "output_type": "stream",
     "text": [
      "Fitting 2 folds for each of 324 candidates, totalling 648 fits\n",
      "Best parameters: {'bootstrap': True, 'max_depth': 10, 'max_features': 'sqrt', 'min_samples_leaf': 1, 'min_samples_split': 2, 'n_estimators': 200}\n"
     ]
    }
   ],
   "source": [
    "grid_search = GridSearchCV(model, param_grid, cv=5, scoring='accuracy', n_jobs=-1, verbose=3)  #grid search\n",
    "grid_search.fit(x_train, y_train)\n"
   ]
  },
  {
   "cell_type": "markdown",
   "id": "1b269d5f-6406-48fd-b465-b40a076e3b7f",
   "metadata": {},
   "source": [
    "Fitting 2 folds for each of 324 candidates, totalling 648 fits\n",
    "Best parameters: {'bootstrap': True, 'max_depth': 50, 'max_features': 'sqrt', 'min_samples_leaf': 1, 'min_samples_split': 5, 'n_estimators': 100}"
   ]
  },
  {
   "cell_type": "markdown",
   "id": "5747344c-265b-45d8-a17d-04099093a3eb",
   "metadata": {},
   "source": [
    "# Best Model"
   ]
  },
  {
   "cell_type": "code",
   "execution_count": null,
   "id": "11bf6a82-2619-409b-83da-18ce14eab8af",
   "metadata": {},
   "outputs": [],
   "source": [
    "\n",
    "best_model = grid_search.best_estimator_\n",
    "\n",
    "print(\"Best parameters:\", grid_search.best_params_)"
   ]
  },
  {
   "cell_type": "markdown",
   "id": "52896d25-0b28-418f-ae8c-5affa3acf3b2",
   "metadata": {},
   "source": [
    "# Best Model Prediction Accuracy"
   ]
  },
  {
   "cell_type": "code",
   "execution_count": 6,
   "id": "9d5e1487-115b-4619-b125-5f87596adf70",
   "metadata": {},
   "outputs": [
    {
     "name": "stdout",
     "output_type": "stream",
     "text": [
      "{'Modelling Algo': 'Best model', 'Accuracy': [0.70625]}\n"
     ]
    }
   ],
   "source": [
    "acc = []\n",
    "d = {}\n",
    "clf = best_model\n",
    "\n",
    "clf.fit(x_train, y_train)\n",
    "pred = clf.predict(x_test)\n",
    "f1 = f1_score(y_test, pred, average='weighted')    #calculate f1 score\n",
    "acc.append(accuracy_score(pred, y_test))\n",
    "d = {'Modelling Algo': 'Best model', 'Accuracy': acc}\n",
    "print(d)"
   ]
  },
  {
   "cell_type": "markdown",
   "id": "f482d3a0-e036-4de3-8166-678921851fb7",
   "metadata": {},
   "source": [
    "Fitting 2 folds for each of 324 candidates, totalling 648 fits\n",
    "Best parameters: {'bootstrap': True, 'max_depth': 100, 'max_features': 'sqrt', 'min_samples_leaf': 1, 'min_samples_split': 2, 'n_estimators': 200}\n",
    "{'Modelling Algo': 'Best model', 'Accuracy': [0.7166666666666667], 'F1': 0.7061601970223739}"
   ]
  }
 ],
 "metadata": {
  "kernelspec": {
   "display_name": "Python 3 (ipykernel)",
   "language": "python",
   "name": "python3"
  },
  "language_info": {
   "codemirror_mode": {
    "name": "ipython",
    "version": 3
   },
   "file_extension": ".py",
   "mimetype": "text/x-python",
   "name": "python",
   "nbconvert_exporter": "python",
   "pygments_lexer": "ipython3",
   "version": "3.9.6"
  }
 },
 "nbformat": 4,
 "nbformat_minor": 5
}
